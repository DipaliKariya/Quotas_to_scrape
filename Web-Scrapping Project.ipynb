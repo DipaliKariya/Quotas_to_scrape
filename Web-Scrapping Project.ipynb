{
 "cells": [
  {
   "cell_type": "code",
   "execution_count": 198,
   "id": "60ce3ee1",
   "metadata": {},
   "outputs": [],
   "source": [
    "#pip install bs4"
   ]
  },
  {
   "cell_type": "code",
   "execution_count": 199,
   "id": "754a6a59",
   "metadata": {},
   "outputs": [],
   "source": [
    "#pip install requests"
   ]
  },
  {
   "cell_type": "code",
   "execution_count": 200,
   "id": "7ceabf45",
   "metadata": {},
   "outputs": [],
   "source": [
    "import requests\n",
    "from bs4 import BeautifulSoup\n",
    "import pandas as pd"
   ]
  },
  {
   "cell_type": "code",
   "execution_count": 201,
   "id": "a97b1b7b",
   "metadata": {},
   "outputs": [],
   "source": [
    "Content = []\n",
    "\n",
    "for i in range(1,10):\n",
    "    url = f\"http://quotes.toscrape.com/page/{i}/\"\n",
    "    response = requests.get(url)\n",
    "    response = response.content\n",
    "    soup = BeautifulSoup(response,\"html.parser\")\n",
    "    contents = soup.find_all('div',class_ = \"quote\")\n",
    "    for content in contents:\n",
    "        quotes=content.find('span',class_='text').text\n",
    "        author=content.find('span',class_=None)\n",
    "        author_name=author.find('small',class_='author').text\n",
    "        tag=content.find('div',class_='tags').meta['content']\n",
    "        Content.append([quotes, author_name,tag])"
   ]
  },
  {
   "cell_type": "code",
   "execution_count": 202,
   "id": "7b1c262c",
   "metadata": {},
   "outputs": [],
   "source": [
    "df = pd.DataFrame(Content, columns = ['Quotes','Name', 'Tag'])"
   ]
  },
  {
   "cell_type": "code",
   "execution_count": 203,
   "id": "70eaad41",
   "metadata": {},
   "outputs": [
    {
     "name": "stdout",
     "output_type": "stream",
     "text": [
      "                                               Quotes             Name   \n",
      "0   “The world as we have created it is a process ...  Albert Einstein  \\\n",
      "1   “It is our choices, Harry, that show what we t...     J.K. Rowling   \n",
      "2   “There are only two ways to live your life. On...  Albert Einstein   \n",
      "3   “The person, be it gentleman or lady, who has ...      Jane Austen   \n",
      "4   “Imperfection is beauty, madness is genius and...   Marilyn Monroe   \n",
      "..                                                ...              ...   \n",
      "85  “Some day you will be old enough to start read...       C.S. Lewis   \n",
      "86  “We are not necessarily doubting that God will...       C.S. Lewis   \n",
      "87  “The fear of death follows from the fear of li...       Mark Twain   \n",
      "88  “A lie can travel half way around the world wh...       Mark Twain   \n",
      "89  “I believe in Christianity as I believe that t...       C.S. Lewis   \n",
      "\n",
      "                                         Tag  \n",
      "0        change,deep-thoughts,thinking,world  \n",
      "1                          abilities,choices  \n",
      "2   inspirational,life,live,miracle,miracles  \n",
      "3              aliteracy,books,classic,humor  \n",
      "4                  be-yourself,inspirational  \n",
      "..                                       ...  \n",
      "85                 age,fairytales,growing-up  \n",
      "86                                       god  \n",
      "87                                death,life  \n",
      "88            misattributed-mark-twain,truth  \n",
      "89           christianity,faith,religion,sun  \n",
      "\n",
      "[90 rows x 3 columns]\n"
     ]
    }
   ],
   "source": [
    "print(df)"
   ]
  },
  {
   "cell_type": "code",
   "execution_count": 205,
   "id": "40a1ba5d",
   "metadata": {},
   "outputs": [],
   "source": [
    "df.to_csv('Quotes_to_scrape.csv')"
   ]
  }
 ],
 "metadata": {
  "kernelspec": {
   "display_name": "Python 3 (ipykernel)",
   "language": "python",
   "name": "python3"
  },
  "language_info": {
   "codemirror_mode": {
    "name": "ipython",
    "version": 3
   },
   "file_extension": ".py",
   "mimetype": "text/x-python",
   "name": "python",
   "nbconvert_exporter": "python",
   "pygments_lexer": "ipython3",
   "version": "3.11.3"
  }
 },
 "nbformat": 4,
 "nbformat_minor": 5
}
